{
 "cells": [
  {
   "cell_type": "markdown",
   "metadata": {
    "colab_type": "text",
    "id": "Za8-Nr5k11fh"
   },
   "source": [
    "##### Copyright 2018 The TensorFlow Authors."
   ]
  },
  {
   "cell_type": "code",
   "execution_count": null,
   "metadata": {
    "cellView": "form",
    "colab": {},
    "colab_type": "code",
    "id": "Eq10uEbw0E4l"
   },
   "outputs": [],
   "source": [
    "#@title Licensed under the Apache License, Version 2.0 (the \"License\");\n",
    "# you may not use this file except in compliance with the License.\n",
    "# You may obtain a copy of the License at\n",
    "#\n",
    "# https://www.apache.org/licenses/LICENSE-2.0\n",
    "#\n",
    "# Unless required by applicable law or agreed to in writing, software\n",
    "# distributed under the License is distributed on an \"AS IS\" BASIS,\n",
    "# WITHOUT WARRANTIES OR CONDITIONS OF ANY KIND, either express or implied.\n",
    "# See the License for the specific language governing permissions and\n",
    "# limitations under the License."
   ]
  },
  {
   "cell_type": "markdown",
   "metadata": {
    "colab_type": "text",
    "id": "UysiGN3tGQHY"
   },
   "source": [
    "# Running TFLite models"
   ]
  },
  {
   "cell_type": "markdown",
   "metadata": {
    "colab_type": "text",
    "id": "2hOrvdmswy5O"
   },
   "source": [
    "<table class=\"tfo-notebook-buttons\" align=\"left\">\n",
    "  <td>\n",
    "    <a target=\"_blank\" href=\"https://colab.research.google.com/github/lmoroney/dlaicourse/blob/master/TensorFlow%20Deployment/Course%202%20-%20TensorFlow%20Lite/Week%201/Examples/TFLite_Week1_Linear_Regression.ipynb\">\n",
    "    <img src=\"https://www.tensorflow.org/images/colab_logo_32px.png\" />\n",
    "    Run in Google Colab</a>\n",
    "  </td>\n",
    "  <td>\n",
    "    <a target=\"_blank\" href=\"https://github.com/lmoroney/dlaicourse/blob/master/TensorFlow%20Deployment/Course%202%20-%20TensorFlow%20Lite/Week%201/Examples/TFLite_Week1_Linear_Regression.ipynb\">\n",
    "    <img src=\"https://www.tensorflow.org/images/GitHub-Mark-32px.png\" />\n",
    "    View source on GitHub</a>\n",
    "  </td>\n",
    "</table>"
   ]
  },
  {
   "cell_type": "markdown",
   "metadata": {
    "colab_type": "text",
    "id": "W-VhTkyTGcaQ"
   },
   "source": [
    "## Setup"
   ]
  },
  {
   "cell_type": "code",
   "execution_count": 1,
   "metadata": {
    "colab": {},
    "colab_type": "code",
    "id": "Ll4ii2J9Fea_"
   },
   "outputs": [],
   "source": [
    "try:\n",
    "    %tensorflow_version 2.x\n",
    "except:\n",
    "    pass"
   ]
  },
  {
   "cell_type": "code",
   "execution_count": 9,
   "metadata": {
    "colab": {},
    "colab_type": "code",
    "id": "dy4BcTjBFTWx"
   },
   "outputs": [
    {
     "name": "stdout",
     "output_type": "stream",
     "text": [
      "• Using TensorFlow Version: 2.0.0\n"
     ]
    }
   ],
   "source": [
    "import pathlib\n",
    "import numpy as np\n",
    "import matplotlib.pyplot as plt\n",
    "\n",
    "import tensorflow as tf\n",
    "\n",
    "print('\\u2022 Using TensorFlow Version:', tf.__version__)"
   ]
  },
  {
   "cell_type": "markdown",
   "metadata": {
    "colab_type": "text",
    "id": "ceibQLDeGhI4"
   },
   "source": [
    "## Create a Basic Model of the Form y = mx + c"
   ]
  },
  {
   "cell_type": "code",
   "execution_count": 10,
   "metadata": {
    "colab": {},
    "colab_type": "code",
    "id": "YIBCsjQNF46Z"
   },
   "outputs": [
    {
     "name": "stdout",
     "output_type": "stream",
     "text": [
      "Train on 6 samples\n",
      "Epoch 1/200\n",
      "6/6 [==============================] - 0s 65ms/sample - loss: 28.0265\n",
      "Epoch 2/200\n",
      "6/6 [==============================] - 0s 7ms/sample - loss: 22.3540\n",
      "Epoch 3/200\n",
      "6/6 [==============================] - 0s 6ms/sample - loss: 17.8849\n",
      "Epoch 4/200\n",
      "6/6 [==============================] - 0s 7ms/sample - loss: 14.3628\n",
      "Epoch 5/200\n",
      "6/6 [==============================] - 0s 7ms/sample - loss: 11.5857\n",
      "Epoch 6/200\n",
      "6/6 [==============================] - 0s 7ms/sample - loss: 9.3950\n",
      "Epoch 7/200\n",
      "6/6 [==============================] - 0s 7ms/sample - loss: 7.6657\n",
      "Epoch 8/200\n",
      "6/6 [==============================] - 0s 7ms/sample - loss: 6.2995\n",
      "Epoch 9/200\n",
      "6/6 [==============================] - 0s 6ms/sample - loss: 5.2191\n",
      "Epoch 10/200\n",
      "6/6 [==============================] - 0s 7ms/sample - loss: 4.3638\n",
      "Epoch 11/200\n",
      "6/6 [==============================] - 0s 7ms/sample - loss: 3.6855\n",
      "Epoch 12/200\n",
      "6/6 [==============================] - 0s 6ms/sample - loss: 3.1467\n",
      "Epoch 13/200\n",
      "6/6 [==============================] - 0s 7ms/sample - loss: 2.7177\n",
      "Epoch 14/200\n",
      "6/6 [==============================] - 0s 7ms/sample - loss: 2.3753\n",
      "Epoch 15/200\n",
      "6/6 [==============================] - 0s 7ms/sample - loss: 2.1010\n",
      "Epoch 16/200\n",
      "6/6 [==============================] - 0s 6ms/sample - loss: 1.8804\n",
      "Epoch 17/200\n",
      "6/6 [==============================] - 0s 7ms/sample - loss: 1.7022\n",
      "Epoch 18/200\n",
      "6/6 [==============================] - 0s 7ms/sample - loss: 1.5574\n",
      "Epoch 19/200\n",
      "6/6 [==============================] - 0s 6ms/sample - loss: 1.4390\n",
      "Epoch 20/200\n",
      "6/6 [==============================] - 0s 6ms/sample - loss: 1.3414\n",
      "Epoch 21/200\n",
      "6/6 [==============================] - 0s 6ms/sample - loss: 1.2604\n",
      "Epoch 22/200\n",
      "6/6 [==============================] - 0s 6ms/sample - loss: 1.1924\n",
      "Epoch 23/200\n",
      "6/6 [==============================] - 0s 7ms/sample - loss: 1.1348\n",
      "Epoch 24/200\n",
      "6/6 [==============================] - 0s 7ms/sample - loss: 1.0855\n",
      "Epoch 25/200\n",
      "6/6 [==============================] - 0s 6ms/sample - loss: 1.0427\n",
      "Epoch 26/200\n",
      "6/6 [==============================] - 0s 7ms/sample - loss: 1.0052\n",
      "Epoch 27/200\n",
      "6/6 [==============================] - 0s 7ms/sample - loss: 0.9718\n",
      "Epoch 28/200\n",
      "6/6 [==============================] - 0s 7ms/sample - loss: 0.9419\n",
      "Epoch 29/200\n",
      "6/6 [==============================] - 0s 7ms/sample - loss: 0.9147\n",
      "Epoch 30/200\n",
      "6/6 [==============================] - 0s 7ms/sample - loss: 0.8897\n",
      "Epoch 31/200\n",
      "6/6 [==============================] - 0s 7ms/sample - loss: 0.8666\n",
      "Epoch 32/200\n",
      "6/6 [==============================] - 0s 7ms/sample - loss: 0.8450\n",
      "Epoch 33/200\n",
      "6/6 [==============================] - 0s 7ms/sample - loss: 0.8246\n",
      "Epoch 34/200\n",
      "6/6 [==============================] - 0s 7ms/sample - loss: 0.8053\n",
      "Epoch 35/200\n",
      "6/6 [==============================] - 0s 7ms/sample - loss: 0.7869\n",
      "Epoch 36/200\n",
      "6/6 [==============================] - 0s 7ms/sample - loss: 0.7693\n",
      "Epoch 37/200\n",
      "6/6 [==============================] - 0s 7ms/sample - loss: 0.7523\n",
      "Epoch 38/200\n",
      "6/6 [==============================] - 0s 7ms/sample - loss: 0.7360\n",
      "Epoch 39/200\n",
      "6/6 [==============================] - 0s 6ms/sample - loss: 0.7201\n",
      "Epoch 40/200\n",
      "6/6 [==============================] - 0s 7ms/sample - loss: 0.7048\n",
      "Epoch 41/200\n",
      "6/6 [==============================] - 0s 7ms/sample - loss: 0.6899\n",
      "Epoch 42/200\n",
      "6/6 [==============================] - 0s 6ms/sample - loss: 0.6753\n",
      "Epoch 43/200\n",
      "6/6 [==============================] - 0s 7ms/sample - loss: 0.6612\n",
      "Epoch 44/200\n",
      "6/6 [==============================] - 0s 7ms/sample - loss: 0.6474\n",
      "Epoch 45/200\n",
      "6/6 [==============================] - 0s 7ms/sample - loss: 0.6339\n",
      "Epoch 46/200\n",
      "6/6 [==============================] - 0s 7ms/sample - loss: 0.6208\n",
      "Epoch 47/200\n",
      "6/6 [==============================] - 0s 7ms/sample - loss: 0.6079\n",
      "Epoch 48/200\n",
      "6/6 [==============================] - 0s 7ms/sample - loss: 0.5953\n",
      "Epoch 49/200\n",
      "6/6 [==============================] - 0s 7ms/sample - loss: 0.5831\n",
      "Epoch 50/200\n",
      "6/6 [==============================] - 0s 7ms/sample - loss: 0.5710\n",
      "Epoch 51/200\n",
      "6/6 [==============================] - 0s 7ms/sample - loss: 0.5593\n",
      "Epoch 52/200\n",
      "6/6 [==============================] - 0s 6ms/sample - loss: 0.5477\n",
      "Epoch 53/200\n",
      "6/6 [==============================] - 0s 7ms/sample - loss: 0.5365\n",
      "Epoch 54/200\n",
      "6/6 [==============================] - 0s 6ms/sample - loss: 0.5254\n",
      "Epoch 55/200\n",
      "6/6 [==============================] - 0s 7ms/sample - loss: 0.5146\n",
      "Epoch 56/200\n",
      "6/6 [==============================] - 0s 7ms/sample - loss: 0.5040\n",
      "Epoch 57/200\n",
      "6/6 [==============================] - 0s 7ms/sample - loss: 0.4937\n",
      "Epoch 58/200\n",
      "6/6 [==============================] - 0s 7ms/sample - loss: 0.4835\n",
      "Epoch 59/200\n",
      "6/6 [==============================] - 0s 7ms/sample - loss: 0.4736\n",
      "Epoch 60/200\n",
      "6/6 [==============================] - 0s 7ms/sample - loss: 0.4639\n",
      "Epoch 61/200\n",
      "6/6 [==============================] - 0s 7ms/sample - loss: 0.4543\n",
      "Epoch 62/200\n",
      "6/6 [==============================] - 0s 7ms/sample - loss: 0.4450\n",
      "Epoch 63/200\n",
      "6/6 [==============================] - 0s 7ms/sample - loss: 0.4358\n",
      "Epoch 64/200\n",
      "6/6 [==============================] - 0s 7ms/sample - loss: 0.4269\n",
      "Epoch 65/200\n",
      "6/6 [==============================] - 0s 7ms/sample - loss: 0.4181\n",
      "Epoch 66/200\n",
      "6/6 [==============================] - 0s 7ms/sample - loss: 0.4095\n",
      "Epoch 67/200\n",
      "6/6 [==============================] - 0s 6ms/sample - loss: 0.4011\n",
      "Epoch 68/200\n",
      "6/6 [==============================] - 0s 6ms/sample - loss: 0.3929\n",
      "Epoch 69/200\n",
      "6/6 [==============================] - 0s 6ms/sample - loss: 0.3848\n",
      "Epoch 70/200\n",
      "6/6 [==============================] - 0s 7ms/sample - loss: 0.3769\n",
      "Epoch 71/200\n",
      "6/6 [==============================] - 0s 7ms/sample - loss: 0.3692\n",
      "Epoch 72/200\n",
      "6/6 [==============================] - 0s 7ms/sample - loss: 0.3616\n",
      "Epoch 73/200\n",
      "6/6 [==============================] - 0s 7ms/sample - loss: 0.3541\n",
      "Epoch 74/200\n",
      "6/6 [==============================] - 0s 7ms/sample - loss: 0.3469\n",
      "Epoch 75/200\n",
      "6/6 [==============================] - 0s 7ms/sample - loss: 0.3397\n",
      "Epoch 76/200\n",
      "6/6 [==============================] - 0s 7ms/sample - loss: 0.3328\n",
      "Epoch 77/200\n",
      "6/6 [==============================] - 0s 7ms/sample - loss: 0.3259\n",
      "Epoch 78/200\n",
      "6/6 [==============================] - 0s 7ms/sample - loss: 0.3192\n",
      "Epoch 79/200\n",
      "6/6 [==============================] - 0s 7ms/sample - loss: 0.3127\n",
      "Epoch 80/200\n",
      "6/6 [==============================] - 0s 7ms/sample - loss: 0.3063\n",
      "Epoch 81/200\n",
      "6/6 [==============================] - 0s 7ms/sample - loss: 0.3000\n",
      "Epoch 82/200\n",
      "6/6 [==============================] - 0s 7ms/sample - loss: 0.2938\n",
      "Epoch 83/200\n",
      "6/6 [==============================] - 0s 7ms/sample - loss: 0.2878\n",
      "Epoch 84/200\n",
      "6/6 [==============================] - 0s 7ms/sample - loss: 0.2819\n",
      "Epoch 85/200\n",
      "6/6 [==============================] - 0s 7ms/sample - loss: 0.2761\n",
      "Epoch 86/200\n",
      "6/6 [==============================] - 0s 7ms/sample - loss: 0.2704\n",
      "Epoch 87/200\n",
      "6/6 [==============================] - 0s 6ms/sample - loss: 0.2648\n",
      "Epoch 88/200\n",
      "6/6 [==============================] - 0s 7ms/sample - loss: 0.2594\n",
      "Epoch 89/200\n",
      "6/6 [==============================] - 0s 6ms/sample - loss: 0.2541\n",
      "Epoch 90/200\n",
      "6/6 [==============================] - 0s 6ms/sample - loss: 0.2489\n",
      "Epoch 91/200\n",
      "6/6 [==============================] - 0s 7ms/sample - loss: 0.2437\n",
      "Epoch 92/200\n",
      "6/6 [==============================] - 0s 8ms/sample - loss: 0.2387\n",
      "Epoch 93/200\n",
      "6/6 [==============================] - 0s 7ms/sample - loss: 0.2338\n",
      "Epoch 94/200\n",
      "6/6 [==============================] - 0s 7ms/sample - loss: 0.2290\n",
      "Epoch 95/200\n",
      "6/6 [==============================] - 0s 7ms/sample - loss: 0.2243\n",
      "Epoch 96/200\n",
      "6/6 [==============================] - 0s 7ms/sample - loss: 0.2197\n",
      "Epoch 97/200\n",
      "6/6 [==============================] - 0s 7ms/sample - loss: 0.2152\n",
      "Epoch 98/200\n",
      "6/6 [==============================] - 0s 7ms/sample - loss: 0.2108\n",
      "Epoch 99/200\n",
      "6/6 [==============================] - 0s 8ms/sample - loss: 0.2065\n",
      "Epoch 100/200\n",
      "6/6 [==============================] - 0s 7ms/sample - loss: 0.2022\n",
      "Epoch 101/200\n",
      "6/6 [==============================] - 0s 7ms/sample - loss: 0.1981\n",
      "Epoch 102/200\n",
      "6/6 [==============================] - 0s 7ms/sample - loss: 0.1940\n",
      "Epoch 103/200\n",
      "6/6 [==============================] - 0s 7ms/sample - loss: 0.1900\n",
      "Epoch 104/200\n",
      "6/6 [==============================] - 0s 6ms/sample - loss: 0.1861\n",
      "Epoch 105/200\n",
      "6/6 [==============================] - 0s 7ms/sample - loss: 0.1823\n",
      "Epoch 106/200\n",
      "6/6 [==============================] - 0s 7ms/sample - loss: 0.1785\n",
      "Epoch 107/200\n",
      "6/6 [==============================] - 0s 7ms/sample - loss: 0.1749\n",
      "Epoch 108/200\n",
      "6/6 [==============================] - 0s 6ms/sample - loss: 0.1713\n",
      "Epoch 109/200\n",
      "6/6 [==============================] - 0s 7ms/sample - loss: 0.1678\n",
      "Epoch 110/200\n",
      "6/6 [==============================] - 0s 7ms/sample - loss: 0.1643\n",
      "Epoch 111/200\n",
      "6/6 [==============================] - 0s 7ms/sample - loss: 0.1609\n",
      "Epoch 112/200\n",
      "6/6 [==============================] - 0s 6ms/sample - loss: 0.1576\n",
      "Epoch 113/200\n",
      "6/6 [==============================] - 0s 7ms/sample - loss: 0.1544\n",
      "Epoch 114/200\n",
      "6/6 [==============================] - 0s 6ms/sample - loss: 0.1512\n",
      "Epoch 115/200\n",
      "6/6 [==============================] - 0s 6ms/sample - loss: 0.1481\n",
      "Epoch 116/200\n",
      "6/6 [==============================] - 0s 7ms/sample - loss: 0.1451\n",
      "Epoch 117/200\n",
      "6/6 [==============================] - 0s 7ms/sample - loss: 0.1421\n",
      "Epoch 118/200\n",
      "6/6 [==============================] - 0s 7ms/sample - loss: 0.1392\n",
      "Epoch 119/200\n",
      "6/6 [==============================] - 0s 7ms/sample - loss: 0.1363\n",
      "Epoch 120/200\n",
      "6/6 [==============================] - 0s 7ms/sample - loss: 0.1335\n",
      "Epoch 121/200\n",
      "6/6 [==============================] - 0s 7ms/sample - loss: 0.1308\n",
      "Epoch 122/200\n",
      "6/6 [==============================] - 0s 7ms/sample - loss: 0.1281\n",
      "Epoch 123/200\n",
      "6/6 [==============================] - 0s 7ms/sample - loss: 0.1255\n",
      "Epoch 124/200\n",
      "6/6 [==============================] - 0s 7ms/sample - loss: 0.1229\n",
      "Epoch 125/200\n",
      "6/6 [==============================] - 0s 7ms/sample - loss: 0.1204\n",
      "Epoch 126/200\n",
      "6/6 [==============================] - 0s 7ms/sample - loss: 0.1179\n",
      "Epoch 127/200\n",
      "6/6 [==============================] - 0s 7ms/sample - loss: 0.1155\n",
      "Epoch 128/200\n",
      "6/6 [==============================] - 0s 8ms/sample - loss: 0.1131\n",
      "Epoch 129/200\n",
      "6/6 [==============================] - 0s 7ms/sample - loss: 0.1108\n",
      "Epoch 130/200\n",
      "6/6 [==============================] - 0s 7ms/sample - loss: 0.1085\n",
      "Epoch 131/200\n",
      "6/6 [==============================] - 0s 7ms/sample - loss: 0.1063\n",
      "Epoch 132/200\n",
      "6/6 [==============================] - 0s 7ms/sample - loss: 0.1041\n",
      "Epoch 133/200\n",
      "6/6 [==============================] - 0s 6ms/sample - loss: 0.1019\n",
      "Epoch 134/200\n",
      "6/6 [==============================] - 0s 7ms/sample - loss: 0.0999\n",
      "Epoch 135/200\n",
      "6/6 [==============================] - 0s 6ms/sample - loss: 0.0978\n",
      "Epoch 136/200\n",
      "6/6 [==============================] - 0s 6ms/sample - loss: 0.0958\n",
      "Epoch 137/200\n",
      "6/6 [==============================] - 0s 6ms/sample - loss: 0.0938\n",
      "Epoch 138/200\n",
      "6/6 [==============================] - 0s 7ms/sample - loss: 0.0919\n",
      "Epoch 139/200\n",
      "6/6 [==============================] - 0s 7ms/sample - loss: 0.0900\n",
      "Epoch 140/200\n",
      "6/6 [==============================] - 0s 7ms/sample - loss: 0.0882\n",
      "Epoch 141/200\n",
      "6/6 [==============================] - 0s 6ms/sample - loss: 0.0864\n",
      "Epoch 142/200\n",
      "6/6 [==============================] - 0s 6ms/sample - loss: 0.0846\n",
      "Epoch 143/200\n",
      "6/6 [==============================] - 0s 7ms/sample - loss: 0.0828\n",
      "Epoch 144/200\n",
      "6/6 [==============================] - 0s 7ms/sample - loss: 0.0811\n",
      "Epoch 145/200\n",
      "6/6 [==============================] - 0s 7ms/sample - loss: 0.0795\n",
      "Epoch 146/200\n",
      "6/6 [==============================] - 0s 7ms/sample - loss: 0.0778\n",
      "Epoch 147/200\n",
      "6/6 [==============================] - 0s 7ms/sample - loss: 0.0762\n",
      "Epoch 148/200\n",
      "6/6 [==============================] - 0s 7ms/sample - loss: 0.0747\n",
      "Epoch 149/200\n",
      "6/6 [==============================] - 0s 7ms/sample - loss: 0.0731\n",
      "Epoch 150/200\n",
      "6/6 [==============================] - 0s 7ms/sample - loss: 0.0716\n",
      "Epoch 151/200\n",
      "6/6 [==============================] - 0s 7ms/sample - loss: 0.0702\n",
      "Epoch 152/200\n",
      "6/6 [==============================] - 0s 7ms/sample - loss: 0.0687\n",
      "Epoch 153/200\n",
      "6/6 [==============================] - 0s 7ms/sample - loss: 0.0673\n",
      "Epoch 154/200\n",
      "6/6 [==============================] - 0s 7ms/sample - loss: 0.0659\n",
      "Epoch 155/200\n",
      "6/6 [==============================] - 0s 7ms/sample - loss: 0.0646\n",
      "Epoch 156/200\n",
      "6/6 [==============================] - 0s 7ms/sample - loss: 0.0632\n",
      "Epoch 157/200\n",
      "6/6 [==============================] - 0s 7ms/sample - loss: 0.0620\n",
      "Epoch 158/200\n",
      "6/6 [==============================] - 0s 7ms/sample - loss: 0.0607\n",
      "Epoch 159/200\n",
      "6/6 [==============================] - 0s 7ms/sample - loss: 0.0594\n",
      "Epoch 160/200\n",
      "6/6 [==============================] - 0s 7ms/sample - loss: 0.0582\n",
      "Epoch 161/200\n",
      "6/6 [==============================] - 0s 7ms/sample - loss: 0.0570\n",
      "Epoch 162/200\n",
      "6/6 [==============================] - 0s 7ms/sample - loss: 0.0558\n",
      "Epoch 163/200\n",
      "6/6 [==============================] - 0s 7ms/sample - loss: 0.0547\n",
      "Epoch 164/200\n",
      "6/6 [==============================] - 0s 7ms/sample - loss: 0.0536\n",
      "Epoch 165/200\n",
      "6/6 [==============================] - 0s 7ms/sample - loss: 0.0525\n",
      "Epoch 166/200\n",
      "6/6 [==============================] - 0s 7ms/sample - loss: 0.0514\n",
      "Epoch 167/200\n",
      "6/6 [==============================] - 0s 7ms/sample - loss: 0.0503\n",
      "Epoch 168/200\n",
      "6/6 [==============================] - 0s 7ms/sample - loss: 0.0493\n",
      "Epoch 169/200\n",
      "6/6 [==============================] - 0s 7ms/sample - loss: 0.0483\n",
      "Epoch 170/200\n",
      "6/6 [==============================] - 0s 7ms/sample - loss: 0.0473\n",
      "Epoch 171/200\n",
      "6/6 [==============================] - 0s 7ms/sample - loss: 0.0463\n",
      "Epoch 172/200\n",
      "6/6 [==============================] - 0s 7ms/sample - loss: 0.0454\n",
      "Epoch 173/200\n",
      "6/6 [==============================] - 0s 7ms/sample - loss: 0.0444\n",
      "Epoch 174/200\n",
      "6/6 [==============================] - 0s 7ms/sample - loss: 0.0435\n",
      "Epoch 175/200\n",
      "6/6 [==============================] - 0s 8ms/sample - loss: 0.0426\n",
      "Epoch 176/200\n",
      "6/6 [==============================] - 0s 9ms/sample - loss: 0.0418\n",
      "Epoch 177/200\n",
      "6/6 [==============================] - 0s 8ms/sample - loss: 0.0409\n",
      "Epoch 178/200\n",
      "6/6 [==============================] - 0s 8ms/sample - loss: 0.0401\n",
      "Epoch 179/200\n",
      "6/6 [==============================] - 0s 9ms/sample - loss: 0.0392\n",
      "Epoch 180/200\n",
      "6/6 [==============================] - 0s 8ms/sample - loss: 0.0384\n",
      "Epoch 181/200\n",
      "6/6 [==============================] - 0s 8ms/sample - loss: 0.0376\n",
      "Epoch 182/200\n",
      "6/6 [==============================] - 0s 7ms/sample - loss: 0.0369\n",
      "Epoch 183/200\n",
      "6/6 [==============================] - 0s 7ms/sample - loss: 0.0361\n",
      "Epoch 184/200\n",
      "6/6 [==============================] - 0s 7ms/sample - loss: 0.0354\n",
      "Epoch 185/200\n",
      "6/6 [==============================] - 0s 7ms/sample - loss: 0.0346\n",
      "Epoch 186/200\n",
      "6/6 [==============================] - 0s 7ms/sample - loss: 0.0339\n",
      "Epoch 187/200\n",
      "6/6 [==============================] - 0s 7ms/sample - loss: 0.0332\n",
      "Epoch 188/200\n",
      "6/6 [==============================] - 0s 6ms/sample - loss: 0.0326\n",
      "Epoch 189/200\n",
      "6/6 [==============================] - 0s 7ms/sample - loss: 0.0319\n",
      "Epoch 190/200\n",
      "6/6 [==============================] - 0s 7ms/sample - loss: 0.0312\n",
      "Epoch 191/200\n",
      "6/6 [==============================] - 0s 7ms/sample - loss: 0.0306\n",
      "Epoch 192/200\n",
      "6/6 [==============================] - 0s 7ms/sample - loss: 0.0300\n",
      "Epoch 193/200\n",
      "6/6 [==============================] - 0s 7ms/sample - loss: 0.0293\n",
      "Epoch 194/200\n",
      "6/6 [==============================] - 0s 7ms/sample - loss: 0.0287\n",
      "Epoch 195/200\n",
      "6/6 [==============================] - 0s 7ms/sample - loss: 0.0282\n",
      "Epoch 196/200\n",
      "6/6 [==============================] - 0s 7ms/sample - loss: 0.0276\n",
      "Epoch 197/200\n",
      "6/6 [==============================] - 0s 7ms/sample - loss: 0.0270\n",
      "Epoch 198/200\n",
      "6/6 [==============================] - 0s 7ms/sample - loss: 0.0265\n",
      "Epoch 199/200\n",
      "6/6 [==============================] - 0s 8ms/sample - loss: 0.0259\n",
      "Epoch 200/200\n",
      "6/6 [==============================] - 0s 7ms/sample - loss: 0.0254\n"
     ]
    },
    {
     "data": {
      "text/plain": [
       "<tensorflow.python.keras.callbacks.History at 0x14ed50f10>"
      ]
     },
     "execution_count": 10,
     "metadata": {},
     "output_type": "execute_result"
    }
   ],
   "source": [
    "# Create a simple Keras model.\n",
    "x = [-1, 0, 1, 2, 3, 4]\n",
    "y = [-3, -1, 1, 3, 5, 7]\n",
    "\n",
    "model = tf.keras.models.Sequential([\n",
    "        tf.keras.layers.Dense(units=1, input_shape=[1])\n",
    "])\n",
    "\n",
    "model.compile(optimizer='sgd',\n",
    "              loss='mean_squared_error')\n",
    "\n",
    "model.fit(x, y, epochs=200)"
   ]
  },
  {
   "cell_type": "markdown",
   "metadata": {
    "colab_type": "text",
    "id": "EjsB-QICGt6L"
   },
   "source": [
    "## Generate a SavedModel"
   ]
  },
  {
   "cell_type": "code",
   "execution_count": 11,
   "metadata": {
    "colab": {},
    "colab_type": "code",
    "id": "a9xcbK7QHOfm"
   },
   "outputs": [
    {
     "name": "stdout",
     "output_type": "stream",
     "text": [
      "WARNING:tensorflow:From /Users/pepo/opt/anaconda3/lib/python3.7/site-packages/tensorflow_core/python/ops/resource_variable_ops.py:1781: calling BaseResourceVariable.__init__ (from tensorflow.python.ops.resource_variable_ops) with constraint is deprecated and will be removed in a future version.\n",
      "Instructions for updating:\n",
      "If using Keras pass *_constraint arguments to layers.\n",
      "INFO:tensorflow:Assets written to: tmp/saved_model/1/assets\n"
     ]
    }
   ],
   "source": [
    "export_dir = 'tmp/saved_model/1'  # 2020-0301 PP added tmp\n",
    "tf.saved_model.save(model, export_dir)"
   ]
  },
  {
   "cell_type": "markdown",
   "metadata": {
    "colab_type": "text",
    "id": "RRtsNwkiGxcO"
   },
   "source": [
    "## Convert the SavedModel to TFLite"
   ]
  },
  {
   "cell_type": "code",
   "execution_count": 12,
   "metadata": {
    "colab": {},
    "colab_type": "code",
    "id": "TtM8yKTVTpD3"
   },
   "outputs": [],
   "source": [
    "# Convert the model.\n",
    "converter = tf.lite.TFLiteConverter.from_saved_model(export_dir)\n",
    "tflite_model = converter.convert()"
   ]
  },
  {
   "cell_type": "code",
   "execution_count": 13,
   "metadata": {
    "colab": {},
    "colab_type": "code",
    "id": "4idYulcNHTdO"
   },
   "outputs": [
    {
     "data": {
      "text/plain": [
       "772"
      ]
     },
     "execution_count": 13,
     "metadata": {},
     "output_type": "execute_result"
    }
   ],
   "source": [
    "tflite_model_file = pathlib.Path('tmp/model.tflite')  # 2020-0301 PP added tmp\n",
    "tflite_model_file.write_bytes(tflite_model)"
   ]
  },
  {
   "cell_type": "markdown",
   "metadata": {
    "colab_type": "text",
    "id": "HgGvp2yBG25Q"
   },
   "source": [
    "## Initialize the TFLite Interpreter To Try It Out"
   ]
  },
  {
   "cell_type": "code",
   "execution_count": 11,
   "metadata": {
    "colab": {},
    "colab_type": "code",
    "id": "DOt94wIWF8m7"
   },
   "outputs": [],
   "source": [
    "# Load TFLite model and allocate tensors.\n",
    "interpreter = tf.lite.Interpreter(model_content=tflite_model)\n",
    "interpreter.allocate_tensors()\n",
    "\n",
    "# Get input and output tensors.\n",
    "input_details = interpreter.get_input_details()\n",
    "output_details = interpreter.get_output_details()"
   ]
  },
  {
   "cell_type": "code",
   "execution_count": 12,
   "metadata": {
    "colab": {},
    "colab_type": "code",
    "id": "JGYkEK08F8qK"
   },
   "outputs": [],
   "source": [
    "# Test the TensorFlow Lite model on random input data.\n",
    "input_shape = input_details[0]['shape']\n",
    "inputs, outputs = [], []\n",
    "for _ in range(100):\n",
    "    input_data = np.array(np.random.random_sample(input_shape), dtype=np.float32)\n",
    "    interpreter.set_tensor(input_details[0]['index'], input_data)\n",
    "    \n",
    "    interpreter.invoke()\n",
    "    tflite_results = interpreter.get_tensor(output_details[0]['index'])\n",
    "    \n",
    "    # Test the TensorFlow model on random input data.\n",
    "    tf_results = model(tf.constant(input_data))\n",
    "    output_data = np.array(tf_results)\n",
    "    \n",
    "    inputs.append(input_data[0][0])\n",
    "    outputs.append(output_data[0][0])"
   ]
  },
  {
   "cell_type": "markdown",
   "metadata": {
    "colab_type": "text",
    "id": "t1gQGH1KWAgW"
   },
   "source": [
    "## Visualize the Model"
   ]
  },
  {
   "cell_type": "code",
   "execution_count": 13,
   "metadata": {
    "colab": {},
    "colab_type": "code",
    "id": "ccvQ1mEJVrqo"
   },
   "outputs": [
    {
     "data": {
      "image/png": "[encoded data removed]",
      "text/plain": [
       "<Figure size 432x288 with 1 Axes>"
      ]
     },
     "metadata": {
      "needs_background": "light"
     },
     "output_type": "display_data"
    }
   ],
   "source": [
    "%matplotlib inline\n",
    "\n",
    "plt.plot(inputs, outputs, 'r')\n",
    "plt.show()"
   ]
  },
  {
   "cell_type": "markdown",
   "metadata": {
    "colab_type": "text",
    "id": "HgGvp2yBG25Q"
   },
   "source": [
    "## Quantization\n",
    "see video"
   ]
  },
  {
   "cell_type": "code",
   "execution_count": 14,
   "metadata": {},
   "outputs": [
    {
     "name": "stdout",
     "output_type": "stream",
     "text": [
      "INFO:tensorflow:Assets written to: tmp/saved_model/2/assets\n"
     ]
    }
   ],
   "source": [
    "export_dir = 'tmp/saved_model/2'  # 2020-0301 PP added tmp\n",
    "tf.saved_model.save(model, export_dir)\n",
    "\n",
    "# Convert the model with quantization\n",
    "converter = tf.lite.TFLiteConverter.from_saved_model(export_dir)\n",
    "converter.optimization = [tf.lite.Optimize.OPTIMIZE_FOR_SIZE]\n",
    "tflite_quant_model = converter.convert()"
   ]
  },
  {
   "cell_type": "code",
   "execution_count": 15,
   "metadata": {},
   "outputs": [
    {
     "data": {
      "text/plain": [
       "772"
      ]
     },
     "execution_count": 15,
     "metadata": {},
     "output_type": "execute_result"
    }
   ],
   "source": [
    "# Save the model\n",
    "tflite_model_file = pathlib.Path('tmp/example4.tflite')\n",
    "tflite_model_file.write_bytes(tflite_quant_model)"
   ]
  },
  {
   "cell_type": "markdown",
   "metadata": {
    "colab_type": "text",
    "id": "HgGvp2yBG25Q"
   },
   "source": [
    "## Initialize the TFLite Interpreter To Try It Out"
   ]
  },
  {
   "cell_type": "code",
   "execution_count": 16,
   "metadata": {
    "colab": {},
    "colab_type": "code",
    "id": "DOt94wIWF8m7"
   },
   "outputs": [],
   "source": [
    "# Load TFLite model and allocate tensors.\n",
    "interpreter = tf.lite.Interpreter(model_content=tflite_quant_model)\n",
    "interpreter.allocate_tensors()\n",
    "\n",
    "# Get input and output tensors.\n",
    "input_details = interpreter.get_input_details()\n",
    "output_details = interpreter.get_output_details()"
   ]
  },
  {
   "cell_type": "code",
   "execution_count": 17,
   "metadata": {
    "colab": {},
    "colab_type": "code",
    "id": "JGYkEK08F8qK"
   },
   "outputs": [],
   "source": [
    "# Test the TensorFlow Lite model on random input data.\n",
    "input_shape = input_details[0]['shape']\n",
    "inputs, outputs = [], []\n",
    "for _ in range(100):\n",
    "    input_data = np.array(np.random.random_sample(input_shape), dtype=np.float32)\n",
    "    interpreter.set_tensor(input_details[0]['index'], input_data)\n",
    "    \n",
    "    interpreter.invoke()\n",
    "    tflite_results = interpreter.get_tensor(output_details[0]['index'])\n",
    "    \n",
    "    # Test the TensorFlow model on random input data.\n",
    "    tf_results = model(tf.constant(input_data))\n",
    "    output_data = np.array(tf_results)\n",
    "    \n",
    "    inputs.append(input_data[0][0])\n",
    "    outputs.append(output_data[0][0])"
   ]
  },
  {
   "cell_type": "markdown",
   "metadata": {
    "colab_type": "text",
    "id": "t1gQGH1KWAgW"
   },
   "source": [
    "## Visualize the Model"
   ]
  },
  {
   "cell_type": "code",
   "execution_count": 18,
   "metadata": {
    "colab": {},
    "colab_type": "code",
    "id": "ccvQ1mEJVrqo"
   },
   "outputs": [
    {
     "data": {
      "image/png": "[encoded data removed]",
      "text/plain": [
       "<Figure size 432x288 with 1 Axes>"
      ]
     },
     "metadata": {
      "needs_background": "light"
     },
     "output_type": "display_data"
    }
   ],
   "source": [
    "%matplotlib inline\n",
    "\n",
    "plt.plot(inputs, outputs, 'r')\n",
    "plt.show()"
   ]
  },
  {
   "cell_type": "markdown",
   "metadata": {
    "colab_type": "text",
    "id": "WbugMH6yKvtd"
   },
   "source": [
    "## Download the TFLite Model File\n",
    "\n",
    "If you are running this notebook in a Colab, you can run the cell below to download the tflite model to your local disk. \n",
    "\n",
    "**Note**: If the file does not download when you run the cell, try running the cell a second time."
   ]
  },
  {
   "cell_type": "code",
   "execution_count": 15,
   "metadata": {
    "colab": {},
    "colab_type": "code",
    "id": "FOAIMETeJmkc"
   },
   "outputs": [],
   "source": [
    "try:\n",
    "    from google.colab import files\n",
    "    files.download(tflite_model_file)\n",
    "except:\n",
    "    pass"
   ]
  },
  {
   "cell_type": "markdown",
   "metadata": {},
   "source": [
    "# Example 2 \n",
    "=> from the video Week 1 / Examples\n"
   ]
  },
  {
   "cell_type": "code",
   "execution_count": 1,
   "metadata": {},
   "outputs": [],
   "source": [
    "import tensorflow as tf\n",
    "import pathlib"
   ]
  },
  {
   "cell_type": "code",
   "execution_count": 2,
   "metadata": {},
   "outputs": [],
   "source": [
    "# load the MobileNet tf.keras.model\n",
    "model = tf.keras.applications.MobileNetV2(weights=\"imagenet\",\n",
    "                                          input_shape=(224, 224,3))\n",
    "# saving the model for later use by tflite_convert\n",
    "model.save('tmp/example2.h5')"
   ]
  },
  {
   "cell_type": "code",
   "execution_count": 3,
   "metadata": {},
   "outputs": [],
   "source": [
    "# Convert the model\n",
    "converter = tf.lite.TFLiteConverter.from_keras_model(model)\n",
    "tflite_model = converter.convert()"
   ]
  },
  {
   "cell_type": "code",
   "execution_count": 4,
   "metadata": {},
   "outputs": [
    {
     "data": {
      "text/plain": [
       "13978380"
      ]
     },
     "execution_count": 4,
     "metadata": {},
     "output_type": "execute_result"
    }
   ],
   "source": [
    "# Save the model\n",
    "tflite_model_file = pathlib.Path('tmp/example2.tflite')\n",
    "tflite_model_file.write_bytes(tflite_model)"
   ]
  },
  {
   "cell_type": "markdown",
   "metadata": {
    "colab_type": "text",
    "id": "HgGvp2yBG25Q"
   },
   "source": [
    "## Quantization\n",
    "see video"
   ]
  },
  {
   "cell_type": "code",
   "execution_count": 7,
   "metadata": {},
   "outputs": [],
   "source": [
    "# Convert the model with quantization\n",
    "converter = tf.lite.TFLiteConverter.from_keras_model(model)\n",
    "converter.optimization = [tf.lite.Optimize.OPTIMIZE_FOR_SIZE]\n",
    "tflite_quant_model = converter.convert()"
   ]
  },
  {
   "cell_type": "code",
   "execution_count": 8,
   "metadata": {},
   "outputs": [
    {
     "data": {
      "text/plain": [
       "13978380"
      ]
     },
     "execution_count": 8,
     "metadata": {},
     "output_type": "execute_result"
    }
   ],
   "source": [
    "# Save the model\n",
    "tflite_model_file = pathlib.Path('tmp/example3.tflite')\n",
    "tflite_model_file.write_bytes(tflite_quant_model)"
   ]
  },
  {
   "cell_type": "markdown",
   "metadata": {
    "colab_type": "text",
    "id": "HgGvp2yBG25Q"
   },
   "source": [
    "## Initialize the TFLite Interpreter To Try It Out\n",
    "\n",
    "2020-0301 PP Is this possible?"
   ]
  },
  {
   "cell_type": "markdown",
   "metadata": {},
   "source": [
    "# Keras example\n",
    "from https://youtu.be/-vHQub0NXI4\n",
    "\n",
    "*Get started with using TensorFlow to solve for regression problems (Coding TensorFlow)* by Robert Crowe, Youtube channel `TensorFlow`.\n",
    "\n",
    "If Seaborn is not installed (Anaconda does!): `pip install seaborn`"
   ]
  },
  {
   "cell_type": "code",
   "execution_count": 29,
   "metadata": {},
   "outputs": [],
   "source": [
    "from __future__ import absolute_import, division, print_function\n",
    "\n",
    "import pathlib\n",
    "\n",
    "import pandas as pd\n",
    "import seaborn as sns\n",
    "\n",
    "import tensorflow as tf\n",
    "from tensorflow import keras"
   ]
  },
  {
   "cell_type": "code",
   "execution_count": 30,
   "metadata": {},
   "outputs": [
    {
     "name": "stdout",
     "output_type": "stream",
     "text": [
      "Pandas version: 0.25.3\n",
      "Seaborn version: 0.9.0\n",
      "Tensorflow version: 2.0.0\n",
      "Keras version: 2.2.4-tf\n"
     ]
    }
   ],
   "source": [
    "# display versions\n",
    "print(f'Pandas version: {pd.__version__}')\n",
    "print(f'Seaborn version: {sns.__version__}')\n",
    "print(f'Tensorflow version: {tf.__version__}')\n",
    "print(f'Keras version: {keras.__version__}')\n",
    "\n",
    "\n",
    "# version on date 2020-03:\n",
    "# Pandas version: 0.25.3\n",
    "# Seaborn version: 0.9.0\n",
    "# Tensorflow version: 2.0.0\n",
    "# Keras version: 2.2.4-tf"
   ]
  },
  {
   "cell_type": "code",
   "execution_count": null,
   "metadata": {},
   "outputs": [],
   "source": []
  }
 ],
 "metadata": {
  "accelerator": "GPU",
  "colab": {
   "collapsed_sections": [],
   "last_runtime": {
    "build_target": "//learning/brain/python/client:colab_notebook_py3",
    "kind": "private"
   },
   "name": "TFLite_Week1_Linear_Regression.ipynb",
   "private_outputs": true,
   "provenance": [],
   "toc_visible": true
  },
  "kernelspec": {
   "display_name": "Python 3",
   "language": "python",
   "name": "python3"
  },
  "language_info": {
   "codemirror_mode": {
    "name": "ipython",
    "version": 3
   },
   "file_extension": ".py",
   "mimetype": "text/x-python",
   "name": "python",
   "nbconvert_exporter": "python",
   "pygments_lexer": "ipython3",
   "version": "3.7.4"
  }
 },
 "nbformat": 4,
 "nbformat_minor": 4
}
